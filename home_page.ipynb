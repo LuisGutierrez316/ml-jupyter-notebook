{
 "cells": [
  {
   "cell_type": "markdown",
   "id": "disabled-interest",
   "metadata": {},
   "source": [
    "# Welcome to the Galaxy's GPU enabled Interactive Jupyterlab for Artificial intelligence (AI)."
   ]
  },
  {
   "cell_type": "markdown",
   "id": "resident-livestock",
   "metadata": {},
   "source": [
    "The jupyter notebook is powered by the latest JupyterLab (3.0.7) and Tensorflow (2.4.1) which can be used to prototype and develop machine learning and deep learning solutions executing on Galaxy's NVIDIA GPUs. The docker container used can be found at [website](https://github.com/anuprulez/ml-jupyter-notebook/tree/galaxy-inte-docker-ml-jupyter).\n",
    "\n",
    "## Core features\n",
    "- Run AI programs on GPUs\n",
    "- Pre-installed packages for AI\n",
    "- Integrated with Git version control\n",
    "- Run Galaxy tools using Bioblend APIs"
   ]
  },
  {
   "cell_type": "markdown",
   "id": "6efc62b6-0418-41bc-b17c-9b610cf960fc",
   "metadata": {},
   "source": [
    "## Introduction"
   ]
  },
  {
   "cell_type": "markdown",
   "id": "d17f01e7-ba90-444d-ad0c-ab249fab3f77",
   "metadata": {},
   "source": [
    "## Data Science"
   ]
  },
  {
   "cell_type": "markdown",
   "id": "0ae549c6-a5f6-4d6b-9121-352dda87bcbf",
   "metadata": {},
   "source": [
    "### Plotting"
   ]
  },
  {
   "cell_type": "markdown",
   "id": "67e0188c-e5b4-4e4e-8af2-d1710adeedc7",
   "metadata": {},
   "source": [
    "### Data manipulation"
   ]
  },
  {
   "cell_type": "markdown",
   "id": "2bad8d3d-779c-4520-86aa-63e86d607ea6",
   "metadata": {},
   "source": [
    "### Machine learning and deep learning"
   ]
  },
  {
   "cell_type": "markdown",
   "id": "94df58db-ebdc-46de-9381-946b3c538f1e",
   "metadata": {},
   "source": [
    "### Model sharing"
   ]
  },
  {
   "cell_type": "markdown",
   "id": "3d261b58-a396-46ee-b9cd-835615d2d021",
   "metadata": {},
   "source": [
    "### Popular usecases"
   ]
  },
  {
   "cell_type": "code",
   "execution_count": null,
   "id": "cd384497-aaf1-432a-9606-61e017b6e218",
   "metadata": {},
   "outputs": [],
   "source": []
  }
 ],
 "metadata": {
  "kernelspec": {
   "display_name": "Python 3",
   "language": "python",
   "name": "python3"
  },
  "language_info": {
   "codemirror_mode": {
    "name": "ipython",
    "version": 3
   },
   "file_extension": ".py",
   "mimetype": "text/x-python",
   "name": "python",
   "nbconvert_exporter": "python",
   "pygments_lexer": "ipython3",
   "version": "3.9.2"
  }
 },
 "nbformat": 4,
 "nbformat_minor": 5
}
