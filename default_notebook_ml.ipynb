{
 "cells": [
  {
   "cell_type": "markdown",
   "id": "uniform-equivalent",
   "metadata": {},
   "source": [
    "# Welcome to the interactive Galaxy IPython Notebook for Machine Learning."
   ]
  },
  {
   "cell_type": "markdown",
   "id": "attended-evolution",
   "metadata": {},
   "source": [
    "More help and informations can be found on the project [website](https://github.com/anuprulez/ml-jupyter-notebook)."
   ]
  },
  {
   "cell_type": "code",
   "execution_count": null,
   "id": "excited-composer",
   "metadata": {},
   "outputs": [],
   "source": []
  }
 ],
 "metadata": {
  "kernelspec": {
   "display_name": "Python 3",
   "language": "python",
   "name": "python3"
  },
  "language_info": {
   "codemirror_mode": {
    "name": "ipython",
    "version": 3
   },
   "file_extension": ".py",
   "mimetype": "text/x-python",
   "name": "python",
   "nbconvert_exporter": "python",
   "pygments_lexer": "ipython3",
   "version": "3.8.6"
  }
 },
 "nbformat": 4,
 "nbformat_minor": 5
}
